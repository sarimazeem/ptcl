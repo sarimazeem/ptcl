{
 "cells": [
  {
   "cell_type": "code",
   "execution_count": null,
   "id": "a786104b",
   "metadata": {},
   "outputs": [],
   "source": [
    "#Reading of shapefile\n",
    "import geopandas as gpd\n",
    "file= gpd.read_file(\"Tehsil_With_Outages.shp\")"
   ]
  },
  {
   "cell_type": "code",
   "execution_count": null,
   "id": "029c35c4",
   "metadata": {},
   "outputs": [],
   "source": [
    "#Assigning variables to each field\n",
    "tehsil=file['TEHSIL']\n",
    "district=file['DISTRICT']\n",
    "fiber_cut=file['Fiber_Cut']\n",
    "hardware=file['Hardware']\n",
    "ipi=file['IP_Node_Is']\n",
    "otf_cut=file['MedOtFCut']\n",
    "pwr=file['Power']\n",
    "msc=file['Miscellane']\n",
    "tt=file['TT_In_Proc']"
   ]
  },
  {
   "cell_type": "code",
   "execution_count": null,
   "id": "3ea4788a",
   "metadata": {},
   "outputs": [],
   "source": [
    "#Summing up data for different factors \n",
    "import pandas as pd\n",
    "\n",
    "s_fiber_cut=file['Fiber_Cut'].sum()\n",
    "s_hardware=file['Hardware'].sum()\n",
    "s_otf_cut=file['MedOtFCut'].sum()\n",
    "s_pwr=file['Power'].sum()\n",
    "s_msc=file['Miscellane'].sum()\n",
    "s_tt=file['TT_In_Proc'].sum()\n",
    "total= s_fiber_cut+s_hardware+s_otf_cut+s_pwr+s_msc+s_tt\n",
    "#Creating sum data\n",
    "sum_data= {'Reasons for Fiber Breakages': ['Fiber Cut', 'Hardware', 'Med OTF Cut', 'Power',\n",
    "           'Miscellaneous', 'TT in Proc'],\n",
    "           'Frequency': [s_fiber_cut, s_hardware, s_otf_cut, s_pwr, s_msc, s_tt]\n",
    "          }\n",
    "sum_data = pd.DataFrame(sum_data)"
   ]
  },
  {
   "cell_type": "code",
   "execution_count": null,
   "id": "fffaafaf",
   "metadata": {},
   "outputs": [],
   "source": [
    "from IPython.display import display, HTML\n",
    "display(HTML(\"<div style = 'position:absolute; left:-65px; top:0px; background-color: black; padding:2600px; width:150px'>\" + \n",
    "            \"<br>\"\"</div>\"))"
   ]
  },
  {
   "cell_type": "code",
   "execution_count": null,
   "id": "693cbc65",
   "metadata": {},
   "outputs": [],
   "source": [
    "#Heading\n",
    "display(HTML(\"<div style = 'position:sticky; left:450px; top:200px;  width:1000px;'>\"  +\n",
    "             \"<span style='color:green; font-size:60px;'> PTCL Fiber Optic Breakages \"  +\"</span>\" +\"<br>\"\"</div>\"))\n",
    "display(HTML(\"<div style = 'position:sticky; left:; top:200px;  width:1000px;'>\"  +\n",
    "             \"<span style='color:White; font-size:30px;'> \"  +\"</span>\" +\"<br>\"\"</div>\"))"
   ]
  },
  {
   "cell_type": "code",
   "execution_count": null,
   "id": "1a34425c",
   "metadata": {},
   "outputs": [],
   "source": [
    "#Fiber Outages factors display\n",
    "display(HTML(\"<div style = 'position:absolute; left:200px; top:160px; background-color: #504e4e; padding:50px; width:260px;'>\"  +\n",
    "             \"<span style='color: white; font-size:20px;'> Fiber Cut= \"  + str(s_fiber_cut) +\"</span>\" +\"<br>\"\"</div>\"))\n",
    "display(HTML(\"<div style = 'position:absolute; left:520px; top:160px; background-color: #504e4e; padding:50px; width:260px'>\" + \n",
    "             \"<span style='color: white; font-size:20px;'> Hardware= \"  + str(s_hardware) + \"</span>\"+ \"<br>\"\"</div>\"))\n",
    "display(HTML(\"<div style = 'position:absolute; left:820px; top:160px; background-color: #504e4e; padding:50px; width:260px'>\" + \n",
    "             \"<span style='color: white; font-size:15.5px;'> Media OTF Cut= \"  + str(s_otf_cut) + \"</span>\"+ \"<br>\"\"</div>\"))\n",
    "display(HTML(\"<div style = 'position:absolute; left:200px; top:300px; background-color: #504e4e; padding:50px; width:260px;'>\"  +\n",
    "             \"<span style='color: white; font-size:20px;'> Power= \"  + str(s_pwr) +\"</span>\" +\"<br>\"\"</div>\"))\n",
    "display(HTML(\"<div style = 'position:absolute; left:520px; top:300px; background-color: #504e4e; padding:50px; width:260px'>\" + \n",
    "             \"<span style='color: white; font-size:17px;'>TT in Process= \"  + str(s_tt) + \"</span>\"+ \"<br>\"\"</div>\"))\n",
    "display(HTML(\"<div style = 'position:absolute; left:820px; top:300px; background-color: #504e4e; padding:50px; width:260px'>\" + \n",
    "             \"<span style='color: white; font-size:17px;'> Miscellaneous= \"  + str(s_msc) + \"</span>\"+ \"<br>\"\"</div>\"))\n",
    "display(HTML(\"<div style = 'position:absolute; left:500px; top:440px; background-color: #504e4e; padding:45px; width:300px'>\" + \n",
    "             \"<span style='color: white; font-size:22px; font-weight: bold;'>Grand Total= \"  + str(total) + \"</span>\"+ \"<br>\"\"</div>\"))\n"
   ]
  },
  {
   "cell_type": "code",
   "execution_count": 1,
   "id": "708271e4",
   "metadata": {},
   "outputs": [
    {
     "ename": "NameError",
     "evalue": "name 'sum_data' is not defined",
     "output_type": "error",
     "traceback": [
      "\u001b[1;31m---------------------------------------------------------------------------\u001b[0m",
      "\u001b[1;31mNameError\u001b[0m                                 Traceback (most recent call last)",
      "Input \u001b[1;32mIn [1]\u001b[0m, in \u001b[0;36m<cell line: 3>\u001b[1;34m()\u001b[0m\n\u001b[0;32m      1\u001b[0m \u001b[38;5;66;03m#\u001b[39;00m\n\u001b[0;32m      2\u001b[0m \u001b[38;5;28;01mimport\u001b[39;00m \u001b[38;5;21;01mplotly\u001b[39;00m\u001b[38;5;21;01m.\u001b[39;00m\u001b[38;5;21;01mexpress\u001b[39;00m \u001b[38;5;28;01mas\u001b[39;00m \u001b[38;5;21;01mpx\u001b[39;00m\n\u001b[1;32m----> 3\u001b[0m fig1 \u001b[38;5;241m=\u001b[39m px\u001b[38;5;241m.\u001b[39mpie(\u001b[43msum_data\u001b[49m, values\u001b[38;5;241m=\u001b[39m\u001b[38;5;124m'\u001b[39m\u001b[38;5;124mFrequency\u001b[39m\u001b[38;5;124m'\u001b[39m, names\u001b[38;5;241m=\u001b[39m\u001b[38;5;124m'\u001b[39m\u001b[38;5;124mReasons for Fiber Breakages\u001b[39m\u001b[38;5;124m'\u001b[39m,\n\u001b[0;32m      4\u001b[0m              color_discrete_sequence\u001b[38;5;241m=\u001b[39mpx\u001b[38;5;241m.\u001b[39mcolors\u001b[38;5;241m.\u001b[39msequential\u001b[38;5;241m.\u001b[39mGreens_r, width\u001b[38;5;241m=\u001b[39m\u001b[38;5;241m1150\u001b[39m, height\u001b[38;5;241m=\u001b[39m \u001b[38;5;241m500\u001b[39m)\n\u001b[0;32m      5\u001b[0m fig1\u001b[38;5;241m.\u001b[39mupdate_layout({\n\u001b[0;32m      6\u001b[0m \u001b[38;5;124m'\u001b[39m\u001b[38;5;124mplot_bgcolor\u001b[39m\u001b[38;5;124m'\u001b[39m: \u001b[38;5;124m'\u001b[39m\u001b[38;5;124mrgb(0, 0, 0)\u001b[39m\u001b[38;5;124m'\u001b[39m,\n\u001b[0;32m      7\u001b[0m \u001b[38;5;124m'\u001b[39m\u001b[38;5;124mpaper_bgcolor\u001b[39m\u001b[38;5;124m'\u001b[39m:\u001b[38;5;124m'\u001b[39m\u001b[38;5;124mrgb(0, 0, 0)\u001b[39m\u001b[38;5;124m'\u001b[39m\n\u001b[0;32m      8\u001b[0m })\n\u001b[0;32m     10\u001b[0m fig1\u001b[38;5;241m.\u001b[39mshow()\n",
      "\u001b[1;31mNameError\u001b[0m: name 'sum_data' is not defined"
     ]
    }
   ],
   "source": [
    "#Pie Chart\n",
    "import plotly.express as px\n",
    "fig1 = px.pie(sum_data, values='Frequency', names='Reasons for Fiber Breakages',\n",
    "             color_discrete_sequence=px.colors.sequential.Greens_r)\n",
    "fig1.update_layout({\n",
    "'plot_bgcolor': 'rgb(0, 0, 0)',\n",
    "'paper_bgcolor':'rgb(0, 0, 0)'\n",
    "})\n",
    "\n",
    "fig1.show()"
   ]
  },
  {
   "cell_type": "code",
   "execution_count": null,
   "id": "8742a6d8",
   "metadata": {},
   "outputs": [],
   "source": []
  }
 ],
 "metadata": {
  "kernelspec": {
   "display_name": "Python 3 (ipykernel)",
   "language": "python",
   "name": "python3"
  },
  "language_info": {
   "codemirror_mode": {
    "name": "ipython",
    "version": 3
   },
   "file_extension": ".py",
   "mimetype": "text/x-python",
   "name": "python",
   "nbconvert_exporter": "python",
   "pygments_lexer": "ipython3",
   "version": "3.10.4"
  }
 },
 "nbformat": 4,
 "nbformat_minor": 5
}
