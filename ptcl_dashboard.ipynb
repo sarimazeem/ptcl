{
 "cells": [
  {
   "cell_type": "code",
   "execution_count": null,
   "id": "a786104b",
   "metadata": {},
   "outputs": [],
   "source": [
    "#Reading of shapefile\n",
    "import geopandas as gpd\n",
    "file= gpd.read_file(\"Tehsil_With_Outages.shp\")"
   ]
  },
  {
   "cell_type": "code",
   "execution_count": null,
   "id": "029c35c4",
   "metadata": {},
   "outputs": [],
   "source": [
    "#Assigning variables to each field\n",
    "tehsil=file['TEHSIL']\n",
    "district=file['DISTRICT']\n",
    "fiber_cut=file['Fiber_Cut']\n",
    "hardware=file['Hardware']\n",
    "ipi=file['IP_Node_Is']\n",
    "otf_cut=file['MedOtFCut']\n",
    "pwr=file['Power']\n",
    "msc=file['Miscellane']\n",
    "tt=file['TT_In_Proc']"
   ]
  },
  {
   "cell_type": "code",
   "execution_count": null,
   "id": "3ea4788a",
   "metadata": {},
   "outputs": [],
   "source": [
    "#Summing up data for different factors \n",
    "import pandas as pd\n",
    "\n",
    "s_fiber_cut=file['Fiber_Cut'].sum()\n",
    "s_hardware=file['Hardware'].sum()\n",
    "s_otf_cut=file['MedOtFCut'].sum()\n",
    "s_pwr=file['Power'].sum()\n",
    "s_msc=file['Miscellane'].sum()\n",
    "s_tt=file['TT_In_Proc'].sum()\n",
    "total= s_fiber_cut+s_hardware+s_otf_cut+s_pwr+s_msc+s_tt\n",
    "#Creating sum data\n",
    "sum_data= {'Reasons for Fiber Breakages': ['Fiber Cut', 'Hardware', 'Med OTF Cut', 'Power',\n",
    "           'Miscellaneous', 'TT in Proc'],\n",
    "           'Frequency': [s_fiber_cut, s_hardware, s_otf_cut, s_pwr, s_msc, s_tt]\n",
    "          }\n",
    "sum_data = pd.DataFrame(sum_data)"
   ]
  },
  {
   "cell_type": "code",
   "execution_count": null,
   "id": "fffaafaf",
   "metadata": {},
   "outputs": [],
   "source": [
    "from IPython.display import display, HTML\n",
    "display(HTML(\"<div style = 'position:absolute; left:-65px; top:0px; background-color: black; padding:2600px; width:150px'>\" + \n",
    "            \"<br>\"\"</div>\"))"
   ]
  },
  {
   "cell_type": "code",
   "execution_count": null,
   "id": "693cbc65",
   "metadata": {},
   "outputs": [],
   "source": [
    "#Heading\n",
    "display(HTML(\"<div style = 'position:sticky; left:450px; top:200px;  width:1000px;'>\"  +\n",
    "             \"<span style='color:green; font-size:60px;'> PTCL Fiber Optic Breakages \"  +\"</span>\" +\"<br>\"\"</div>\"))"
   ]
  },
  {
   "cell_type": "code",
   "execution_count": null,
   "id": "bc0867eb",
   "metadata": {},
   "outputs": [],
   "source": [
    "#Fiber Outages factors display\n",
    "display(HTML(\"<div style = 'position:absolute; left:200px; top:200px; background-color: #504e4e; padding:50px; width:260px;'>\"  +\n",
    "             \"<span style='color: white; font-size:20px;'> Fiber Cut= \"  + str(s_fiber_cut) +\"</span>\" +\"<br>\"\"</div>\"))\n",
    "display(HTML(\"<div style = 'position:absolute; left:520px; top:200px; background-color: #504e4e; padding:50px; width:260px'>\" + \n",
    "             \"<span style='color: white; font-size:20px;'> Hardware= \"  + str(s_hardware) + \"</span>\"+ \"<br>\"\"</div>\"))\n",
    "display(HTML(\"<div style = 'position:absolute; left:820px; top:200px; background-color: #504e4e; padding:50px; width:260px'>\" + \n",
    "             \"<span style='color: white; font-size:15.5px;'> Media OTF Cut= \"  + str(s_otf_cut) + \"</span>\"+ \"<br>\"\"</div>\"))\n",
    "display(HTML(\"<div style = 'position:absolute; left:200px; top:340px; background-color: #504e4e; padding:50px; width:260px;'>\"  +\n",
    "             \"<span style='color: white; font-size:20px;'> Power= \"  + str(s_pwr) +\"</span>\" +\"<br>\"\"</div>\"))\n",
    "display(HTML(\"<div style = 'position:absolute; left:520px; top:340px; background-color: #504e4e; padding:50px; width:260px'>\" + \n",
    "             \"<span style='color: white; font-size:17px;'>TT in Process= \"  + str(s_tt) + \"</span>\"+ \"<br>\"\"</div>\"))\n",
    "display(HTML(\"<div style = 'position:absolute; left:820px; top:340px; background-color: #504e4e; padding:50px; width:260px'>\" + \n",
    "             \"<span style='color: white; font-size:17px;'> Miscellaneous= \"  + str(s_msc) + \"</span>\"+ \"<br>\"\"</div>\"))\n",
    "display(HTML(\"<div style = 'position:absolute; left:500px; top:480px; background-color: #504e4e; padding:45px; width:300px'>\" + \n",
    "             \"<span style='color: white; font-size:22px; font-weight: bold;'>Grand Total= \"  + str(total) + \"</span>\"+ \"<br>\"\"</div>\"))\n",
    "display(HTML(\"<div style = 'position:sticky; left:; top:200px;  width:1000px;'>\"  +\n",
    "             \"<span style='color:White; font-size:30px;'> \"  +\"</span>\" +\"<br>\"\"</div>\"))\n",
    "display(HTML(\"<div style = 'position:sticky; left:; top:200px;  width:1000px;'>\"  +\n",
    "             \"<span style='color:White; font-size:30px;'> \"  +\"</span>\" +\"<br>\"\"</div>\"))\n",
    "display(HTML(\"<div style = 'position:sticky; left:; top:200px;  width:1000px;'>\"  +\n",
    "             \"<span style='color:White; font-size:30px;'> \"  +\"</span>\" +\"<br>\"\"</div>\"))\n",
    "display(HTML(\"<div style = 'position:sticky; left:; top:200px;  width:1000px;'>\"  +\n",
    "             \"<span style='color:White; font-size:30px;'> \"  +\"</span>\" +\"<br>\"\"</div>\"))\n",
    "display(HTML(\"<div style = 'position:sticky; left:; top:200px;  width:1000px;'>\"  +\n",
    "             \"<span style='color:White; font-size:30px;'> \"  +\"</span>\" +\"<br>\"\"</div>\"))\n",
    "display(HTML(\"<div style = 'position:sticky; left:; top:200px;  width:1000px;'>\"  +\n",
    "             \"<span style='color:White; font-size:30px;'> \"  +\"</span>\" +\"<br>\"\"</div>\"))\n",
    "display(HTML(\"<div style = 'position:sticky; left:; top:200px;  width:1000px;'>\"  +\n",
    "             \"<span style='color:White; font-size:30px;'> \"  +\"</span>\" +\"<br>\"\"</div>\"))\n",
    "display(HTML(\"<div style = 'position:sticky; left:; top:200px;  width:1000px;'>\"  +\n",
    "             \"<span style='color:White; font-size:30px;'> \"  +\"</span>\" +\"<br>\"\"</div>\"))\n"
   ]
  },
  {
   "cell_type": "code",
   "execution_count": null,
   "id": "3a9c57f7",
   "metadata": {},
   "outputs": [],
   "source": [
    "#Pie Chart\n",
    "import plotly.express as px\n",
    "fig1 = px.pie(sum_data, values='Frequency', names='Reasons for Fiber Breakages',\n",
    "             color_discrete_sequence=px.colors.sequential.Greens_r, width=1150, height= 500)\n",
    "fig1.update_layout({\n",
    "'plot_bgcolor': 'rgb(0, 0, 0)',\n",
    "'paper_bgcolor':'rgb(0, 0, 0)'\n",
    "})\n",
    "\n",
    "fig1.show()"
   ]
  }
 ],
 "metadata": {
  "kernelspec": {
   "display_name": "Python 3 (ipykernel)",
   "language": "python",
   "name": "python3"
  },
  "language_info": {
   "codemirror_mode": {
    "name": "ipython",
    "version": 3
   },
   "file_extension": ".py",
   "mimetype": "text/x-python",
   "name": "python",
   "nbconvert_exporter": "python",
   "pygments_lexer": "ipython3",
   "version": "3.10.4"
  }
 },
 "nbformat": 4,
 "nbformat_minor": 5
}
