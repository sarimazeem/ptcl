{
 "cells": [
  {
   "cell_type": "code",
   "execution_count": null,
   "id": "a786104b",
   "metadata": {},
   "outputs": [],
   "source": [
    "#Reading of shapefile\n",
    "import geopandas as gpd\n",
    "file= gpd.read_file(\"Tehsil_With_Outages.shp\")"
   ]
  },
  {
   "cell_type": "code",
   "execution_count": null,
   "id": "029c35c4",
   "metadata": {},
   "outputs": [],
   "source": [
    "#Assigning variables to each field\n",
    "tehsil=file['TEHSIL']\n",
    "district=file['DISTRICT']\n",
    "fiber_cut=file['Fiber_Cut']\n",
    "hardware=file['Hardware']\n",
    "ipi=file['IP_Node_Is']\n",
    "otf_cut=file['MedOtFCut']\n",
    "pwr=file['Power']\n",
    "msc=file['Miscellane']\n",
    "tt=file['TT_In_Proc']"
   ]
  },
  {
   "cell_type": "code",
   "execution_count": null,
   "id": "3ea4788a",
   "metadata": {},
   "outputs": [],
   "source": [
    "#Summing up data for different factors \n",
    "import pandas as pd\n",
    "\n",
    "s_fiber_cut=file['Fiber_Cut'].sum()\n",
    "s_hardware=file['Hardware'].sum()\n",
    "s_otf_cut=file['MedOtFCut'].sum()\n",
    "s_pwr=file['Power'].sum()\n",
    "s_msc=file['Miscellane'].sum()\n",
    "s_tt=file['TT_In_Proc'].sum()\n",
    "total= s_fiber_cut+s_hardware+s_otf_cut+s_pwr+s_msc+s_tt\n",
    "#Creating sum data\n",
    "sum_data= {'Reasons for Fiber Breakages': ['Fiber Cut', 'Hardware', 'Med OTF Cut', 'Power',\n",
    "           'Miscellaneous', 'TT in Proc'],\n",
    "           'Frequency': [s_fiber_cut, s_hardware, s_otf_cut, s_pwr, s_msc, s_tt]\n",
    "          }\n",
    "sum_data = pd.DataFrame(sum_data)"
   ]
  },
  {
   "cell_type": "code",
   "execution_count": null,
   "id": "fffaafaf",
   "metadata": {},
   "outputs": [],
   "source": [
    "from IPython.display import display, HTML\n",
    "display(HTML(\"<div style = 'position:absolute; left:-65px; top:0px; background-color: black; padding:2600px; width:150px'>\" + \n",
    "            \"<br>\"\"</div>\"))"
   ]
  },
  {
   "cell_type": "code",
   "execution_count": null,
   "id": "693cbc65",
   "metadata": {},
   "outputs": [],
   "source": [
    "#Heading\n",
    "display(HTML(\"<div style = 'position:sticky; left:450px; top:200px;  width:1000px;'>\"  +\n",
    "             \"<span style='color:green; font-size:60px;'> PTCL Fiber Optic Breakages \"  +\"</span>\" +\"<br>\"\"</div>\"))"
   ]
  },
  {
   "cell_type": "code",
   "execution_count": null,
   "id": "0f58231c",
   "metadata": {},
   "outputs": [],
   "source": [
    "#Fiber Outages factors display\n",
    "display(HTML(\"<div style = 'position:absolute; left:200px; top:200px; background-color: #504e4e; padding:50px; width:260px;'>\"  +\n",
    "             \"<span style='color: white; font-size:20px;'> Fiber Cut= \"  + str(s_fiber_cut) +\"</span>\" +\"<br>\"\"</div>\"))\n",
    "display(HTML(\"<div style = 'position:absolute; left:520px; top:200px; background-color: #504e4e; padding:50px; width:260px'>\" + \n",
    "             \"<span style='color: white; font-size:20px;'> Hardware= \"  + str(s_hardware) + \"</span>\"+ \"<br>\"\"</div>\"))\n",
    "display(HTML(\"<div style = 'position:absolute; left:820px; top:200px; background-color: #504e4e; padding:50px; width:260px'>\" + \n",
    "             \"<span style='color: white; font-size:15.5px;'> Media OTF Cut= \"  + str(s_otf_cut) + \"</span>\"+ \"<br>\"\"</div>\"))\n",
    "display(HTML(\"<div style = 'position:absolute; left:200px; top:340px; background-color: #504e4e; padding:50px; width:260px;'>\"  +\n",
    "             \"<span style='color: white; font-size:20px;'> Power= \"  + str(s_pwr) +\"</span>\" +\"<br>\"\"</div>\"))\n",
    "display(HTML(\"<div style = 'position:absolute; left:520px; top:340px; background-color: #504e4e; padding:50px; width:260px'>\" + \n",
    "             \"<span style='color: white; font-size:17px;'>TT in Process= \"  + str(s_tt) + \"</span>\"+ \"<br>\"\"</div>\"))\n",
    "display(HTML(\"<div style = 'position:absolute; left:820px; top:340px; background-color: #504e4e; padding:50px; width:260px'>\" + \n",
    "             \"<span style='color: white; font-size:17px;'> Miscellaneous= \"  + str(s_msc) + \"</span>\"+ \"<br>\"\"</div>\"))\n",
    "display(HTML(\"<div style = 'position:absolute; left:500px; top:480px; background-color: #504e4e; padding:45px; width:300px'>\" + \n",
    "             \"<span style='color: white; font-size:22px; font-weight: bold;'>Grand Total= \"  + str(total) + \"</span>\"+ \"<br>\"\"</div>\"))\n",
    "display(HTML(\"<div style = 'position:sticky; left:; top:200px;  width:1000px;'>\"  +\n",
    "             \"<span style='color:White; font-size:30px;'> \"  +\"</span>\" +\"<br>\"\"</div>\"))\n",
    "display(HTML(\"<div style = 'position:sticky; left:; top:200px;  width:1000px;'>\"  +\n",
    "             \"<span style='color:White; font-size:30px;'> \"  +\"</span>\" +\"<br>\"\"</div>\"))\n",
    "display(HTML(\"<div style = 'position:sticky; left:; top:200px;  width:1000px;'>\"  +\n",
    "             \"<span style='color:White; font-size:30px;'> \"  +\"</span>\" +\"<br>\"\"</div>\"))\n",
    "display(HTML(\"<div style = 'position:sticky; left:; top:200px;  width:1000px;'>\"  +\n",
    "             \"<span style='color:White; font-size:30px;'> \"  +\"</span>\" +\"<br>\"\"</div>\"))\n",
    "display(HTML(\"<div style = 'position:sticky; left:; top:200px;  width:1000px;'>\"  +\n",
    "             \"<span style='color:White; font-size:30px;'> \"  +\"</span>\" +\"<br>\"\"</div>\"))\n",
    "display(HTML(\"<div style = 'position:sticky; left:; top:200px;  width:1000px;'>\"  +\n",
    "             \"<span style='color:White; font-size:30px;'> \"  +\"</span>\" +\"<br>\"\"</div>\"))\n",
    "display(HTML(\"<div style = 'position:sticky; left:; top:200px;  width:1000px;'>\"  +\n",
    "             \"<span style='color:White; font-size:30px;'> \"  +\"</span>\" +\"<br>\"\"</div>\"))\n",
    "display(HTML(\"<div style = 'position:sticky; left:; top:200px;  width:1000px;'>\"  +\n",
    "             \"<span style='color:White; font-size:30px;'> \"  +\"</span>\" +\"<br>\"\"</div>\"))\n"
   ]
  },
  {
   "cell_type": "code",
   "execution_count": null,
   "id": "2148f6c8",
   "metadata": {},
   "outputs": [],
   "source": [
    "#Pie Chart\n",
    "import plotly.express as px\n",
    "fig1 = px.pie(sum_data, values='Frequency', names='Reasons for Fiber Breakages',\n",
    "             color_discrete_sequence=px.colors.sequential.Greens_r, width=880, height= 600)\n",
    "fig1.update_layout({\n",
    "'plot_bgcolor': 'rgb(0, 0, 0)',\n",
    "'paper_bgcolor':'rgb(0, 0, 0)'\n",
    "})\n",
    "\n",
    "fig1.show()"
   ]
  },
  {
   "cell_type": "code",
   "execution_count": null,
   "id": "d5c9c871",
   "metadata": {},
   "outputs": [],
   "source": [
    "#Computing Sum Data\n",
    "sum_data= {'Reasons for Fiber Breakages': ['Fiber Cut', 'Hardware', 'Med OTF Cut', 'Power',\n",
    "           'Miscellaneous', 'TT in Proc'],\n",
    "           'Frequency': [s_fiber_cut, s_hardware, s_otf_cut, s_pwr, s_msc, s_tt]\n",
    "          }\n",
    "sum_data = pd.DataFrame(sum_data)"
   ]
  },
  {
   "cell_type": "code",
   "execution_count": null,
   "id": "5f51d405",
   "metadata": {},
   "outputs": [],
   "source": [
    "#Converting data into data frame\n",
    "fc_data= {'Tehsil': tehsil, 'Fiber_Cut': fiber_cut}\n",
    "fc_data=pd.DataFrame(fc_data)\n",
    "l_fc_data= fc_data.nlargest(n=10, columns=['Fiber_Cut'])\n",
    "\n",
    "hw_data= {'Tehsil': tehsil, 'Hardware': hardware}\n",
    "hw_data=pd.DataFrame(hw_data)\n",
    "l_hw_data= hw_data.nlargest(n=10, columns=['Hardware'])\n",
    "\n",
    "otf_data= {'Tehsil': tehsil, 'Med_OTF_Cut': otf_cut}\n",
    "otf_data=pd.DataFrame(otf_data)\n",
    "l_otf_data= otf_data.nlargest(n=10, columns=['Med_OTF_Cut'])\n",
    "\n",
    "pwr_data= {'Tehsil': tehsil, 'Power': pwr}\n",
    "pwr_data=pd.DataFrame(pwr_data)\n",
    "l_pwr_data= pwr_data.nlargest(n=10, columns=['Power'])\n",
    "\n",
    "msc_data= {'Tehsil': tehsil, 'Miscellaneous': msc}\n",
    "msc_data=pd.DataFrame(msc_data)\n",
    "l_msc_data= msc_data.nlargest(n=10, columns=['Miscellaneous'])\n",
    "\n",
    "tt_data= {'Tehsil': tehsil, 'TT_in_Proc': tt}\n",
    "tt_data=pd.DataFrame(tt_data)\n",
    "l_tt_data= tt_data.nlargest(n=10, columns=['TT_in_Proc'])"
   ]
  },
  {
   "cell_type": "code",
   "execution_count": null,
   "id": "e61fcea4",
   "metadata": {},
   "outputs": [],
   "source": [
    "#Displaying Top 10 Tehsil Heading\n",
    "display(HTML(\"<div style = 'position:sticky; left:; top:200px;  width:1000px;'>\"  +\n",
    "             \"<span style='color:green; font-size:40px;'> Top 10 Tehsil With Greatest Outages \"  +\"</span>\" +\"<br>\"\"</div>\"))"
   ]
  },
  {
   "cell_type": "code",
   "execution_count": null,
   "id": "ba0ff19d",
   "metadata": {},
   "outputs": [],
   "source": [
    "#Graph showing Top 10 Tehsils With Greatest Outages\n",
    "import plotly.graph_objects as px\n",
    "  \n",
    "plot = px.Figure(data=[\n",
    "    px.Bar(name='Fiber Cut', x=l_fc_data.Tehsil, y=l_fc_data.Fiber_Cut ),       \n",
    "    px.Bar(name= 'Hardware', x=l_hw_data.Tehsil, y=l_hw_data.Hardware),                      \n",
    "    px.Bar(name= 'Media OTF Cut', x=l_otf_data.Tehsil, y=l_otf_data.Med_OTF_Cut),\n",
    "    px.Bar(name= 'Power', x=l_pwr_data.Tehsil, y=l_pwr_data.Power),\n",
    "    px.Bar(name= 'TT in Proc', x=l_tt_data.Tehsil, y=l_tt_data.TT_in_Proc)\n",
    "])\n",
    "  \n",
    "  \n",
    "# Add dropdown\n",
    "plot.update_layout(\n",
    "    updatemenus=[\n",
    "        dict(\n",
    "            active=0,\n",
    "            buttons=list([\n",
    "                dict(label=\"All\",\n",
    "                     method=\"update\",\n",
    "                     args=[{\"visible\": [True, True, True, True, True]},\n",
    "                           {\"title\": \"Fiber Cut\"}\n",
    "                          ]),\n",
    "                dict(label=\"Fiber Cut\",\n",
    "                     method=\"update\",\n",
    "                     args=[{\"visible\": [True, False, False, False, False]},\n",
    "                           {\"title\": \"Fiber Cut\"}\n",
    "                          ]),\n",
    "                dict(label=\"Hardware\",\n",
    "                     method=\"update\",\n",
    "                     args=[{\"visible\": [False, True, False, False, False]},\n",
    "                         {\"title\": \"Hardware\"}]),\n",
    "                dict(label=\"Media OTF Cut\",\n",
    "                     method=\"update\",\n",
    "                     args=[{\"visible\": [False, False, True, False, False]},\n",
    "                         {\"title\": \"Media OTF Cut\"}]),\n",
    "                  dict(label=\"Power\",\n",
    "                     method=\"update\",\n",
    "                     args=[{\"visible\": [False, False, False, True, False]},\n",
    "                           {\"title\": \"Power\"}\n",
    "                          ]),\n",
    "                dict(label=\"TT in Proc\",\n",
    "                     method=\"update\",\n",
    "                     args=[{\"visible\": [False, False, False, False, True]},\n",
    "                           {\"title\": \"TT in Proc\"}\n",
    "                          ]),\n",
    "            ]),\n",
    "        )\n",
    "    ])\n",
    "plot.update_layout(width=850, height= 500)\n",
    "plot.show()"
   ]
  },
  {
   "cell_type": "code",
   "execution_count": null,
   "id": "6d1d5972",
   "metadata": {},
   "outputs": [],
   "source": [
    "#Map showing outages Heading\n",
    "display(HTML(\"<div style = 'position:sticky; left:; top:200px;  width:1000px;'>\"  +\n",
    "             \"<span style='color:green; font-size:40px;'> Maps Showing Outages \"  +\"</span>\" +\"<br>\"\"</div>\"))"
   ]
  },
  {
   "cell_type": "code",
   "execution_count": null,
   "id": "26e1ff26",
   "metadata": {},
   "outputs": [],
   "source": [
    "#Renaming the columns\n",
    "file['geoid'] = file.index.astype(str)\n",
    "file.head()\n",
    "file= file[['geoid', 'TEHSIL', 'Fiber_Cut', 'Hardware', 'MedOtFCut', 'Power', 'TT_In_Proc','Miscellane', 'geometry']]\n",
    "file.rename(columns = {'TEHSIL':'Tehsil', 'Fiber_Cut':'Fiber Cut', 'MedOtFCut':'Media OTF Cut', 'TT_In_Proc':'TT in Process',\n",
    "                        'Miscellane':'Miscellaneous'}, inplace = True)"
   ]
  }
 ],
 "metadata": {
  "kernelspec": {
   "display_name": "Python 3 (ipykernel)",
   "language": "python",
   "name": "python3"
  },
  "language_info": {
   "codemirror_mode": {
    "name": "ipython",
    "version": 3
   },
   "file_extension": ".py",
   "mimetype": "text/x-python",
   "name": "python",
   "nbconvert_exporter": "python",
   "pygments_lexer": "ipython3",
   "version": "3.10.4"
  }
 },
 "nbformat": 4,
 "nbformat_minor": 5
}
